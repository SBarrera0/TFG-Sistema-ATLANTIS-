{
 "cells": [
  {
   "cell_type": "markdown",
   "id": "80e77402",
   "metadata": {},
   "source": [
    "\n",
    "<img src=\"https://www.unir.net/wp-content/uploads/2019/11/Unir_2021_logo.svg\" width=\"240\" height=\"240\" align=\"right\"/>\n",
    "\n",
    "# 🎓 ATLANTIS: Automated Language Analysis and Text Intelligence System\n",
    "\n",
    "<span style=\"font-size: 20px; font-weight: bold;\">Asignatura: Trabajo Fin de Grado - Grado Ingeniería Informática</span>  \n",
    "<span style=\"font-size: 14px; font-weight: bold;\">Autora: Silvia Barrera Ibáñez</span>  \n",
    "\n",
    "**Fecha:** 25 de abril de 2025\n"
   ]
  },
  {
   "cell_type": "code",
   "execution_count": 1,
   "id": "2c6b6762",
   "metadata": {},
   "outputs": [
    {
     "data": {
      "text/html": [
       "\n",
       "<div style='font-family: Arial; padding: 20px; background-color: #e3f2fd; border-radius: 10px;\n",
       "             border-left: 6px solid #1e88e5; margin-bottom: 20px;'>\n",
       "  <h2 style='color: #1565c0;'>📘 Comparador de Textos - Literalidad y Similitud</h2>\n",
       "  <p>Este cuaderno interactivo permite a profesores, evaluadores y usuarios finales comparar dos textos y conocer \n",
       "  su grado de literalidad y similitud. Ideal para analizar respuestas de estudiantes, fragmentos leídos en voz alta,\n",
       "  o para verificar coincidencias entre documentos.</p>\n",
       "  <ul>\n",
       "    <li><strong>Paso 1:</strong> Introduce el primer texto que deseas comparar.</li>\n",
       "    <li><strong>Paso 2:</strong> Introduce el segundo texto.</li>\n",
       "    <li><strong>Resultado:</strong> Se mostrará si ambos textos son iguales, y un porcentaje de coincidencia aproximada.</li>\n",
       "  </ul>\n",
       "</div>\n"
      ],
      "text/plain": [
       "<IPython.core.display.HTML object>"
      ]
     },
     "metadata": {},
     "output_type": "display_data"
    }
   ],
   "source": [
    "\n",
    "from IPython.display import display, HTML\n",
    "\n",
    "display(HTML(\"\"\"\n",
    "<div style='font-family: Arial; padding: 20px; background-color: #e3f2fd; border-radius: 10px;\n",
    "             border-left: 6px solid #1e88e5; margin-bottom: 20px;'>\n",
    "  <h2 style='color: #1565c0;'>📘 Comparador de Textos - Literalidad y Similitud</h2>\n",
    "  <p>Este cuaderno interactivo permite a profesores, evaluadores y usuarios finales comparar dos textos y conocer \n",
    "  su grado de literalidad y similitud. Ideal para analizar respuestas de estudiantes, fragmentos leídos en voz alta,\n",
    "  o para verificar coincidencias entre documentos.</p>\n",
    "  <ul>\n",
    "    <li><strong>Paso 1:</strong> Introduce el primer texto que deseas comparar.</li>\n",
    "    <li><strong>Paso 2:</strong> Introduce el segundo texto.</li>\n",
    "    <li><strong>Resultado:</strong> Se mostrará si ambos textos son iguales, y un porcentaje de coincidencia aproximada.</li>\n",
    "  </ul>\n",
    "</div>\n",
    "\"\"\"))\n"
   ]
  },
  {
   "cell_type": "code",
   "execution_count": 2,
   "id": "f18868ca-ea67-4d51-be22-dd27d73c43c7",
   "metadata": {},
   "outputs": [
    {
     "data": {
      "application/vnd.jupyter.widget-view+json": {
       "model_id": "544ede5563b445e8ac6d321db64ad266",
       "version_major": 2,
       "version_minor": 0
      },
      "text/plain": [
       "Output()"
      ]
     },
     "metadata": {},
     "output_type": "display_data"
    },
    {
     "data": {
      "application/vnd.jupyter.widget-view+json": {
       "model_id": "d89989b4c4eb46588c4cd104bdedaeaa",
       "version_major": 2,
       "version_minor": 0
      },
      "text/plain": [
       "Output()"
      ]
     },
     "metadata": {},
     "output_type": "display_data"
    }
   ],
   "source": [
    "from rapidfuzz import fuzz\n",
    "import ipywidgets as widgets\n",
    "from IPython.display import display, HTML, clear_output\n",
    "\n",
    "# Variables globales para los textos\n",
    "texto_1 = \"\"\n",
    "texto_2 = \"\"\n",
    "\n",
    "# Cajas de salida generales\n",
    "salida_principal = widgets.Output()\n",
    "salida_comparacion = widgets.Output()\n",
    "\n",
    "# Paso 1: Introducir el primer texto\n",
    "def mostrar_paso_1():\n",
    "    with salida_principal:\n",
    "        clear_output()\n",
    "        area_1 = widgets.Textarea(\n",
    "            placeholder=\"Introduce el primer texto aquí...\",\n",
    "            layout=widgets.Layout(width=\"100%\", height=\"150px\")\n",
    "        )\n",
    "        boton_siguiente = widgets.Button(description=\"➡️ Siguiente\", button_style='primary')\n",
    "\n",
    "        def al_hacer_click(_):\n",
    "            nonlocal area_1\n",
    "            global texto_1\n",
    "            texto_1 = area_1.value.strip()\n",
    "            if texto_1:\n",
    "                mostrar_paso_2()\n",
    "            else:\n",
    "                with salida_comparacion:\n",
    "                    clear_output()\n",
    "                    print(\"⚠️ El primer texto no puede estar vacío.\")\n",
    "\n",
    "        boton_siguiente.on_click(al_hacer_click)\n",
    "\n",
    "        display(HTML(\"<h4>✏️ Paso 1: Introduce el primer texto</h4>\"))\n",
    "        display(area_1, boton_siguiente)\n",
    "        salida_comparacion.clear_output()\n",
    "\n",
    "# Paso 2: Introducir el segundo texto y comparar\n",
    "def mostrar_paso_2():\n",
    "    with salida_principal:\n",
    "        clear_output()\n",
    "        area_2 = widgets.Textarea(\n",
    "            placeholder=\"Introduce el segundo texto aquí...\",\n",
    "            layout=widgets.Layout(width=\"100%\", height=\"150px\")\n",
    "        )\n",
    "        boton_comparar = widgets.Button(description=\"🔍 Comparar\", button_style='success')\n",
    "\n",
    "        def comparar(_):\n",
    "            global texto_2\n",
    "            texto_2 = area_2.value.strip()\n",
    "            if not texto_2:\n",
    "                with salida_comparacion:\n",
    "                    clear_output()\n",
    "                    print(\"⚠️ El segundo texto no puede estar vacío.\")\n",
    "                return\n",
    "\n",
    "            # Comparación de textos\n",
    "            t1 = texto_1.lower()\n",
    "            t2 = texto_2.lower()\n",
    "            iguales = t1 == t2\n",
    "            similitud = fuzz.token_sort_ratio(t1, t2)\n",
    "\n",
    "            with salida_comparacion:\n",
    "                clear_output()\n",
    "                display(HTML(f\"\"\"\n",
    "                <div style=\"font-family: Arial; background: #f0f9ff; padding: 20px; \n",
    "                            border: 1px solid #90caf9; border-radius: 10px;\">\n",
    "                    <h4 style=\"color: #1f77b4;\">📊 Resultados de la comparación</h4>\n",
    "                    <p><strong>¿Son exactamente iguales?</strong> {'✅ Sí' if iguales else '❌ No'}</p>\n",
    "                    <p><strong>Porcentaje de similitud (orden flexible):</strong> {similitud:.2f}%</p>\n",
    "                </div>\n",
    "                \"\"\"))\n",
    "\n",
    "        boton_comparar.on_click(comparar)\n",
    "\n",
    "        display(HTML(\"<h4>✏️ Paso 2: Introduce el segundo texto</h4>\"))\n",
    "        display(area_2, boton_comparar)\n",
    "\n",
    "# Mostrar interfaz inicial\n",
    "display(salida_principal)\n",
    "display(salida_comparacion)\n",
    "mostrar_paso_1()\n"
   ]
  },
  {
   "cell_type": "code",
   "execution_count": 3,
   "id": "5dc6fac9-9a34-4a20-82e0-c612568ee94f",
   "metadata": {},
   "outputs": [
    {
     "name": "stdout",
     "output_type": "stream",
     "text": [
      "✅ jiwer está instalado correctamente.\n",
      "   versión jiwer: 3.1.0\n"
     ]
    }
   ],
   "source": [
    "try:\n",
    "    import jiwer\n",
    "    print(\"✅ jiwer está instalado correctamente.\")\n",
    "    # Intentamos rescatar la versión si está disponible\n",
    "    try:\n",
    "        import importlib.metadata as md\n",
    "        version = md.version(\"jiwer\")\n",
    "        print(f\"   versión jiwer: {version}\")\n",
    "    except Exception:\n",
    "        print(\"   no se pudo obtener la versión de jiwer.\")\n",
    "except ImportError:\n",
    "    print(\"❌ jiwer NO está instalado en este entorno.\")\n",
    "\n"
   ]
  },
  {
   "cell_type": "code",
   "execution_count": null,
   "id": "0b63ffb6-59f1-4838-afdc-a51a8ac3c08d",
   "metadata": {},
   "outputs": [],
   "source": []
  }
 ],
 "metadata": {
  "kernelspec": {
   "display_name": "Python 3 (ipykernel)",
   "language": "python",
   "name": "python3"
  },
  "language_info": {
   "codemirror_mode": {
    "name": "ipython",
    "version": 3
   },
   "file_extension": ".py",
   "mimetype": "text/x-python",
   "name": "python",
   "nbconvert_exporter": "python",
   "pygments_lexer": "ipython3",
   "version": "3.9.20"
  }
 },
 "nbformat": 4,
 "nbformat_minor": 5
}
